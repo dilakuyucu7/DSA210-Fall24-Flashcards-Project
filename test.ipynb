{
 "cells": [
  {
   "cell_type": "code",
   "execution_count": 8,
   "metadata": {},
   "outputs": [
    {
     "name": "stderr",
     "output_type": "stream",
     "text": [
      "C:\\Users\\hp\\AppData\\Roaming\\Python\\Python313\\site-packages\\appium\\webdriver\\webdriver.py:220: DeprecationWarning: setting remote_server_addr in RemoteConnection() is deprecated, set in ClientConfig instance instead\n",
      "  command_executor = AppiumConnection(remote_server_addr=command_executor, client_config=client_config)\n"
     ]
    },
    {
     "name": "stdout",
     "output_type": "stream",
     "text": [
      "App opened successfully!\n"
     ]
    },
    {
     "name": "stderr",
     "output_type": "stream",
     "text": [
      "."
     ]
    },
    {
     "name": "stdout",
     "output_type": "stream",
     "text": [
      "Menu button clicked successfully!\n"
     ]
    },
    {
     "name": "stderr",
     "output_type": "stream",
     "text": [
      ".\n",
      "----------------------------------------------------------------------\n",
      "Ran 2 tests in 15.033s\n",
      "\n",
      "OK\n"
     ]
    }
   ],
   "source": [
    "from appium import webdriver\n",
    "from appium.webdriver.common.appiumby import AppiumBy\n",
    "from appium.options.common import AppiumOptions\n",
    "import unittest\n",
    "from selenium.webdriver.support.ui import WebDriverWait\n",
    "from selenium.webdriver.support import expected_conditions as EC\n",
    "\n",
    "\n",
    "class FlashcardsWorld(unittest.TestCase):\n",
    "    def setUp(self) -> None:\n",
    "        # Set up desired capabilities\n",
    "        options = AppiumOptions()\n",
    "        options.set_capability(\"platformName\", \"Android\")\n",
    "        options.set_capability(\"automationName\", \"uiautomator2\")\n",
    "        options.set_capability(\"deviceName\", \"Android\")\n",
    "        options.set_capability(\"appPackage\", \"flashcards.words.words\")  # App package\n",
    "        options.set_capability(\"appActivity\", \".ui.base.SplashActivity\")  # Launcher activity\n",
    "        options.set_capability(\"noReset\", True)  # Prevents resetting the app state\n",
    "        options.set_capability(\"dontStopAppOnReset\", True)  # Keeps the app running\n",
    "\n",
    "        # Initialize the Appium driver\n",
    "        self.driver = webdriver.Remote(\"http://localhost:4723\", options=options)\n",
    "\n",
    "    def tearDown(self) -> None:\n",
    "        # Close the driver after the test\n",
    "        if self.driver:\n",
    "            self.driver.quit()\n",
    "\n",
    "    def test_open_app(self) -> None:\n",
    "        # Wait to ensure the app launches properly\n",
    "        self.driver.implicitly_wait(10)\n",
    "        print(\"App opened successfully!\")\n",
    "\n",
    "    def test_open_menu_button(self) -> None:\n",
    "        # Wait to ensure the app launches\n",
    "        self.driver.implicitly_wait(10)\n",
    "\n",
    "        # Wait explicitly for the menu button to appear\n",
    "        menu_button = WebDriverWait(self.driver, 20).until(\n",
    "            EC.presence_of_element_located(\n",
    "                (AppiumBy.ANDROID_UIAUTOMATOR, \n",
    "                 'new UiSelector().className(\"android.widget.ImageButton\").clickable(true)')\n",
    "            )\n",
    "        )\n",
    "\n",
    "        # Click the menu button\n",
    "        menu_button.click()\n",
    "        print(\"Menu button clicked successfully!\")\n",
    "\n",
    "\n",
    "if __name__ == \"__main__\":\n",
    "    unittest.main(argv=[\"first-arg-is-ignored\"], exit=False)\n"
   ]
  }
 ],
 "metadata": {
  "kernelspec": {
   "display_name": "Python 3",
   "language": "python",
   "name": "python3"
  },
  "language_info": {
   "codemirror_mode": {
    "name": "ipython",
    "version": 3
   },
   "file_extension": ".py",
   "mimetype": "text/x-python",
   "name": "python",
   "nbconvert_exporter": "python",
   "pygments_lexer": "ipython3",
   "version": "3.13.1"
  }
 },
 "nbformat": 4,
 "nbformat_minor": 2
}
