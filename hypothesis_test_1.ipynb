{
  "nbformat": 4,
  "nbformat_minor": 0,
  "metadata": {
    "colab": {
      "provenance": [],
      "authorship_tag": "ABX9TyPSXYX2/0MTqhcm4xUC2XHH",
      "include_colab_link": true
    },
    "kernelspec": {
      "name": "python3",
      "display_name": "Python 3"
    },
    "language_info": {
      "name": "python"
    }
  },
  "cells": [
    {
      "cell_type": "markdown",
      "metadata": {
        "id": "view-in-github",
        "colab_type": "text"
      },
      "source": [
        "<a href=\"https://colab.research.google.com/github/dilakuyucu7/DSA210-Fall24-Flashcards-Project/blob/main/hypothesis_test_1.ipynb\" target=\"_parent\"><img src=\"https://colab.research.google.com/assets/colab-badge.svg\" alt=\"Open In Colab\"/></a>"
      ]
    },
    {
      "cell_type": "code",
      "source": [
        "#this file is for hypothesis testing\n",
        "#my first hypothesis is:\n",
        "#null hypothesis: The average accuracy level for verbs is equal to that for nouns.\n",
        "#alternating hypothesis: The average accuracy level for verbs is higher than that for nouns."
      ],
      "metadata": {
        "id": "H4b6XiTwLii7"
      },
      "execution_count": null,
      "outputs": []
    },
    {
      "cell_type": "code",
      "source": [
        "#The box plot clearly shows that nouns have a higher median and tighter accuracy distribution.\n",
        "#Nouns reach 100% accuracy more frequently compared to verbs.\n",
        "#The spread for verbs is wider, with lower accuracy values appearing more often.\n",
        "#Mean Accuracy for Verbs: 0.82\n",
        "#Mean Accuracy for Nouns: 0.88"
      ],
      "metadata": {
        "id": "O0JG6KGdQ08t"
      },
      "execution_count": null,
      "outputs": []
    },
    {
      "cell_type": "code",
      "source": [
        "import pandas as pd\n",
        "from scipy import stats\n",
        "import matplotlib.pyplot as plt\n",
        "\n",
        "# Load datasets (replace the file paths with your own if needed)\n",
        "korean_df = pd.read_csv('/content/kr_progress_with_pos_stanza.csv')\n",
        "german_df = pd.read_csv('/content/deu_progress_with_pos_stanza.csv')\n",
        "italian_df = pd.read_csv('/content/ita_progress_with_pos_stanza.csv')\n",
        "\n",
        "# Standardize column names and remove extra spaces\n",
        "def clean_columns(df):\n",
        "    df.columns = df.columns.str.strip().str.replace(' ', '_')\n",
        "    return df\n",
        "\n",
        "korean_df = clean_columns(korean_df)\n",
        "german_df = clean_columns(german_df)\n",
        "italian_df = clean_columns(italian_df)\n",
        "\n",
        "# Convert 'DET' to 'NOUN' for German dataset\n",
        "german_df['Part_of_Speech'] = german_df['Part_of_Speech'].replace({'DET': 'NOUN'})\n",
        "\n",
        "# Combine datasets into one dataframe\n",
        "combined_df = pd.concat([korean_df, german_df, italian_df], ignore_index=True)\n",
        "\n",
        "# Convert columns to numeric and filter invalid rows\n",
        "combined_df['Correct_answers'] = pd.to_numeric(combined_df['Correct_answers'], errors='coerce')\n",
        "combined_df['Studied'] = pd.to_numeric(combined_df['Studied'], errors='coerce')\n",
        "\n",
        "# Filter out invalid rows where 'Studied' is zero or missing\n",
        "combined_df = combined_df[(combined_df['Studied'] > 0) & (combined_df['Correct_answers'].notna())].copy()\n",
        "\n",
        "# Calculate accuracy level\n",
        "combined_df['accuracy_level'] = combined_df['Correct_answers'] / combined_df['Studied']\n",
        "\n",
        "# Separate verbs and nouns for analysis\n",
        "verbs = combined_df[combined_df['Part_of_Speech'] == 'VERB']['accuracy_level'].dropna()\n",
        "nouns = combined_df[combined_df['Part_of_Speech'] == 'NOUN']['accuracy_level'].dropna()\n",
        "\n",
        "### Perform the Two-Sided T-Test\n",
        "t_stat, p_value = stats.ttest_ind(verbs, nouns, alternative='two-sided')\n",
        "\n",
        "# Display the t-test results\n",
        "print(f\"T-statistic: {t_stat:.4f}\")\n",
        "print(f\"P-value: {p_value:.4e}\")\n",
        "\n",
        "# Interpretation based on alpha level 0.05\n",
        "alpha = 0.05\n",
        "if p_value < alpha:\n",
        "    print(\"✅ Reject the null hypothesis: There is a significant difference between verbs and nouns accuracy.\")\n",
        "else:\n",
        "    print(\"❌ Fail to reject the null hypothesis: No significant difference between verbs and nouns.\")\n",
        "\n",
        "### Generate Box Plot for Visualization\n",
        "plt.figure(figsize=(8, 6))\n",
        "plt.boxplot([verbs, nouns], labels=['Verbs', 'Nouns'])\n",
        "plt.title('Accuracy Level Comparison: Verbs vs. Nouns')\n",
        "plt.ylabel('Accuracy Level')\n",
        "plt.show()\n",
        "\n",
        "### Display Descriptive Statistics\n",
        "verbs_stats = verbs.describe()\n",
        "nouns_stats = nouns.describe()\n",
        "\n",
        "print(\"Descriptive Statistics for Verbs:\\n\", verbs_stats)\n",
        "print(\"\\nDescriptive Statistics for Nouns:\\n\", nouns_stats)\n",
        "\n",
        "# Display means for additional clarity\n",
        "mean_verbs = verbs.mean()\n",
        "mean_nouns = nouns.mean()\n",
        "print(f\"\\nMean Accuracy for Verbs: {mean_verbs:.4f}\")\n",
        "print(f\"Mean Accuracy for Nouns: {mean_nouns:.4f}\")\n"
      ],
      "metadata": {
        "colab": {
          "base_uri": "https://localhost:8080/",
          "height": 1000
        },
        "id": "K1whHBw6QmDA",
        "outputId": "78f03721-2d9f-4411-baa3-882e595f97f4"
      },
      "execution_count": 5,
      "outputs": [
        {
          "output_type": "stream",
          "name": "stdout",
          "text": [
            "T-statistic: -4.4538\n",
            "P-value: 9.3082e-06\n",
            "✅ Reject the null hypothesis: There is a significant difference between verbs and nouns accuracy.\n"
          ]
        },
        {
          "output_type": "stream",
          "name": "stderr",
          "text": [
            "<ipython-input-5-139fbfe0e55a>:55: MatplotlibDeprecationWarning: The 'labels' parameter of boxplot() has been renamed 'tick_labels' since Matplotlib 3.9; support for the old name will be dropped in 3.11.\n",
            "  plt.boxplot([verbs, nouns], labels=['Verbs', 'Nouns'])\n"
          ]
        },
        {
          "output_type": "display_data",
          "data": {
            "text/plain": [
              "<Figure size 800x600 with 1 Axes>"
            ],
            "image/png": "[encoded data removed]"
          },
          "metadata": {}
        },
        {
          "output_type": "stream",
          "name": "stdout",
          "text": [
            "Descriptive Statistics for Verbs:\n",
            " count    482.000000\n",
            "mean       0.816861\n",
            "std        0.236168\n",
            "min        0.000000\n",
            "25%        0.600000\n",
            "50%        0.928571\n",
            "75%        1.000000\n",
            "max        1.000000\n",
            "Name: accuracy_level, dtype: float64\n",
            "\n",
            "Descriptive Statistics for Nouns:\n",
            " count    607.000000\n",
            "mean       0.875008\n",
            "std        0.194603\n",
            "min        0.000000\n",
            "25%        0.792857\n",
            "50%        1.000000\n",
            "75%        1.000000\n",
            "max        1.000000\n",
            "Name: accuracy_level, dtype: float64\n",
            "\n",
            "Mean Accuracy for Verbs: 0.8169\n",
            "Mean Accuracy for Nouns: 0.8750\n"
          ]
        }
      ]
    }
  ]
}